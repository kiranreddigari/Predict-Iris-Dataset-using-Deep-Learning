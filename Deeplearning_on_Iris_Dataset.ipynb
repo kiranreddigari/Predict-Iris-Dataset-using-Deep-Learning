{
 "cells": [
  {
   "cell_type": "code",
   "execution_count": 1,
   "metadata": {},
   "outputs": [
    {
     "name": "stdout",
     "output_type": "stream",
     "text": [
      "[[5.1 3.5 1.4 0.2 0. ]\n",
      " [4.9 3.  1.4 0.2 0. ]\n",
      " [4.7 3.2 1.3 0.2 0. ]\n",
      " [4.6 3.1 1.5 0.2 0. ]\n",
      " [5.  3.6 1.4 0.2 0. ]\n",
      " [5.4 3.9 1.7 0.4 0. ]\n",
      " [4.6 3.4 1.4 0.3 0. ]\n",
      " [5.  3.4 1.5 0.2 0. ]\n",
      " [4.4 2.9 1.4 0.2 0. ]\n",
      " [4.9 3.1 1.5 0.1 0. ]\n",
      " [5.4 3.7 1.5 0.2 0. ]\n",
      " [4.8 3.4 1.6 0.2 0. ]\n",
      " [4.8 3.  1.4 0.1 0. ]\n",
      " [4.3 3.  1.1 0.1 0. ]\n",
      " [5.8 4.  1.2 0.2 0. ]\n",
      " [5.7 4.4 1.5 0.4 0. ]\n",
      " [5.4 3.9 1.3 0.4 0. ]\n",
      " [5.1 3.5 1.4 0.3 0. ]\n",
      " [5.7 3.8 1.7 0.3 0. ]\n",
      " [5.1 3.8 1.5 0.3 0. ]\n",
      " [5.4 3.4 1.7 0.2 0. ]\n",
      " [5.1 3.7 1.5 0.4 0. ]\n",
      " [4.6 3.6 1.  0.2 0. ]\n",
      " [5.1 3.3 1.7 0.5 0. ]\n",
      " [4.8 3.4 1.9 0.2 0. ]\n",
      " [5.  3.  1.6 0.2 0. ]\n",
      " [5.  3.4 1.6 0.4 0. ]\n",
      " [5.2 3.5 1.5 0.2 0. ]\n",
      " [5.2 3.4 1.4 0.2 0. ]\n",
      " [4.7 3.2 1.6 0.2 0. ]\n",
      " [4.8 3.1 1.6 0.2 0. ]\n",
      " [5.4 3.4 1.5 0.4 0. ]\n",
      " [5.2 4.1 1.5 0.1 0. ]\n",
      " [5.5 4.2 1.4 0.2 0. ]\n",
      " [4.9 3.1 1.5 0.1 0. ]\n",
      " [5.  3.2 1.2 0.2 0. ]\n",
      " [5.5 3.5 1.3 0.2 0. ]\n",
      " [4.9 3.1 1.5 0.1 0. ]\n",
      " [4.4 3.  1.3 0.2 0. ]\n",
      " [5.1 3.4 1.5 0.2 0. ]\n",
      " [5.  3.5 1.3 0.3 0. ]\n",
      " [4.5 2.3 1.3 0.3 0. ]\n",
      " [4.4 3.2 1.3 0.2 0. ]\n",
      " [5.  3.5 1.6 0.6 0. ]\n",
      " [5.1 3.8 1.9 0.4 0. ]\n",
      " [4.8 3.  1.4 0.3 0. ]\n",
      " [5.1 3.8 1.6 0.2 0. ]\n",
      " [4.6 3.2 1.4 0.2 0. ]\n",
      " [5.3 3.7 1.5 0.2 0. ]\n",
      " [5.  3.3 1.4 0.2 0. ]\n",
      " [7.  3.2 4.7 1.4 1. ]\n",
      " [6.4 3.2 4.5 1.5 1. ]\n",
      " [6.9 3.1 4.9 1.5 1. ]\n",
      " [5.5 2.3 4.  1.3 1. ]\n",
      " [6.5 2.8 4.6 1.5 1. ]\n",
      " [5.7 2.8 4.5 1.3 1. ]\n",
      " [6.3 3.3 4.7 1.6 1. ]\n",
      " [4.9 2.4 3.3 1.  1. ]\n",
      " [6.6 2.9 4.6 1.3 1. ]\n",
      " [5.2 2.7 3.9 1.4 1. ]\n",
      " [5.  2.  3.5 1.  1. ]\n",
      " [5.9 3.  4.2 1.5 1. ]\n",
      " [6.  2.2 4.  1.  1. ]\n",
      " [6.1 2.9 4.7 1.4 1. ]\n",
      " [5.6 2.9 3.6 1.3 1. ]\n",
      " [6.7 3.1 4.4 1.4 1. ]\n",
      " [5.6 3.  4.5 1.5 1. ]\n",
      " [5.8 2.7 4.1 1.  1. ]\n",
      " [6.2 2.2 4.5 1.5 1. ]\n",
      " [5.6 2.5 3.9 1.1 1. ]\n",
      " [5.9 3.2 4.8 1.8 1. ]\n",
      " [6.1 2.8 4.  1.3 1. ]\n",
      " [6.3 2.5 4.9 1.5 1. ]\n",
      " [6.1 2.8 4.7 1.2 1. ]\n",
      " [6.4 2.9 4.3 1.3 1. ]\n",
      " [6.6 3.  4.4 1.4 1. ]\n",
      " [6.8 2.8 4.8 1.4 1. ]\n",
      " [6.7 3.  5.  1.7 1. ]\n",
      " [6.  2.9 4.5 1.5 1. ]\n",
      " [5.7 2.6 3.5 1.  1. ]\n",
      " [5.5 2.4 3.8 1.1 1. ]\n",
      " [5.5 2.4 3.7 1.  1. ]\n",
      " [5.8 2.7 3.9 1.2 1. ]\n",
      " [6.  2.7 5.1 1.6 1. ]\n",
      " [5.4 3.  4.5 1.5 1. ]\n",
      " [6.  3.4 4.5 1.6 1. ]\n",
      " [6.7 3.1 4.7 1.5 1. ]\n",
      " [6.3 2.3 4.4 1.3 1. ]\n",
      " [5.6 3.  4.1 1.3 1. ]\n",
      " [5.5 2.5 4.  1.3 1. ]\n",
      " [5.5 2.6 4.4 1.2 1. ]\n",
      " [6.1 3.  4.6 1.4 1. ]\n",
      " [5.8 2.6 4.  1.2 1. ]\n",
      " [5.  2.3 3.3 1.  1. ]\n",
      " [5.6 2.7 4.2 1.3 1. ]\n",
      " [5.7 3.  4.2 1.2 1. ]\n",
      " [5.7 2.9 4.2 1.3 1. ]\n",
      " [6.2 2.9 4.3 1.3 1. ]\n",
      " [5.1 2.5 3.  1.1 1. ]\n",
      " [5.7 2.8 4.1 1.3 1. ]\n",
      " [6.3 3.3 6.  2.5 2. ]\n",
      " [5.8 2.7 5.1 1.9 2. ]\n",
      " [7.1 3.  5.9 2.1 2. ]\n",
      " [6.3 2.9 5.6 1.8 2. ]\n",
      " [6.5 3.  5.8 2.2 2. ]\n",
      " [7.6 3.  6.6 2.1 2. ]\n",
      " [4.9 2.5 4.5 1.7 2. ]\n",
      " [7.3 2.9 6.3 1.8 2. ]\n",
      " [6.7 2.5 5.8 1.8 2. ]\n",
      " [7.2 3.6 6.1 2.5 2. ]\n",
      " [6.5 3.2 5.1 2.  2. ]\n",
      " [6.4 2.7 5.3 1.9 2. ]\n",
      " [6.8 3.  5.5 2.1 2. ]\n",
      " [5.7 2.5 5.  2.  2. ]\n",
      " [5.8 2.8 5.1 2.4 2. ]\n",
      " [6.4 3.2 5.3 2.3 2. ]\n",
      " [6.5 3.  5.5 1.8 2. ]\n",
      " [7.7 3.8 6.7 2.2 2. ]\n",
      " [7.7 2.6 6.9 2.3 2. ]\n",
      " [6.  2.2 5.  1.5 2. ]\n",
      " [6.9 3.2 5.7 2.3 2. ]\n",
      " [5.6 2.8 4.9 2.  2. ]\n",
      " [7.7 2.8 6.7 2.  2. ]\n",
      " [6.3 2.7 4.9 1.8 2. ]\n",
      " [6.7 3.3 5.7 2.1 2. ]\n",
      " [7.2 3.2 6.  1.8 2. ]\n",
      " [6.2 2.8 4.8 1.8 2. ]\n",
      " [6.1 3.  4.9 1.8 2. ]\n",
      " [6.4 2.8 5.6 2.1 2. ]\n",
      " [7.2 3.  5.8 1.6 2. ]\n",
      " [7.4 2.8 6.1 1.9 2. ]\n",
      " [7.9 3.8 6.4 2.  2. ]\n",
      " [6.4 2.8 5.6 2.2 2. ]\n",
      " [6.3 2.8 5.1 1.5 2. ]\n",
      " [6.1 2.6 5.6 1.4 2. ]\n",
      " [7.7 3.  6.1 2.3 2. ]\n",
      " [6.3 3.4 5.6 2.4 2. ]\n",
      " [6.4 3.1 5.5 1.8 2. ]\n",
      " [6.  3.  4.8 1.8 2. ]\n",
      " [6.9 3.1 5.4 2.1 2. ]\n",
      " [6.7 3.1 5.6 2.4 2. ]\n",
      " [6.9 3.1 5.1 2.3 2. ]\n",
      " [5.8 2.7 5.1 1.9 2. ]\n",
      " [6.8 3.2 5.9 2.3 2. ]\n",
      " [6.7 3.3 5.7 2.5 2. ]\n",
      " [6.7 3.  5.2 2.3 2. ]\n",
      " [6.3 2.5 5.  1.9 2. ]\n",
      " [6.5 3.  5.2 2.  2. ]\n",
      " [6.2 3.4 5.4 2.3 2. ]\n",
      " [5.9 3.  5.1 1.8 2. ]]\n"
     ]
    }
   ],
   "source": [
    "import pandas as pd\n",
    "\n",
    "dataset=pd.read_csv(\"iris.csv\").values\n",
    "print(dataset)"
   ]
  },
  {
   "cell_type": "code",
   "execution_count": 2,
   "metadata": {},
   "outputs": [],
   "source": [
    "data=dataset[:,0:4]\n",
    "target=dataset[:,4]"
   ]
  },
  {
   "cell_type": "code",
   "execution_count": 3,
   "metadata": {},
   "outputs": [],
   "source": [
    "from tensorflow.keras.models import Sequential\n",
    "from tensorflow.keras.layers import Dense"
   ]
  },
  {
   "cell_type": "code",
   "execution_count": 4,
   "metadata": {},
   "outputs": [
    {
     "name": "stdout",
     "output_type": "stream",
     "text": [
      "Model: \"sequential\"\n",
      "_________________________________________________________________\n",
      "Layer (type)                 Output Shape              Param #   \n",
      "=================================================================\n",
      "dense (Dense)                (None, 64)                320       \n",
      "_________________________________________________________________\n",
      "dense_1 (Dense)              (None, 128)               8320      \n",
      "_________________________________________________________________\n",
      "dense_2 (Dense)              (None, 64)                8256      \n",
      "_________________________________________________________________\n",
      "dense_3 (Dense)              (None, 3)                 195       \n",
      "=================================================================\n",
      "Total params: 17,091\n",
      "Trainable params: 17,091\n",
      "Non-trainable params: 0\n",
      "_________________________________________________________________\n"
     ]
    }
   ],
   "source": [
    "model = Sequential()#empty NN model is created\n",
    "model.add(Dense(64,input_dim=4,activation='relu'))\n",
    "model.add(Dense(128,activation='relu'))\n",
    "model.add(Dense(64,activation='relu'))\n",
    "model.add(Dense(3,activation='softmax'))\n",
    "\n",
    "\n",
    "model.compile(loss='categorical_crossentropy',optimizer='sgd',metrics=['accuracy'])\n",
    "model.summary()"
   ]
  },
  {
   "cell_type": "code",
   "execution_count": 8,
   "metadata": {},
   "outputs": [
    {
     "name": "stdout",
     "output_type": "stream",
     "text": [
      "[[1. 0. 0.]\n",
      " [1. 0. 0.]\n",
      " [1. 0. 0.]\n",
      " [1. 0. 0.]\n",
      " [1. 0. 0.]]\n"
     ]
    }
   ],
   "source": [
    "from keras.utils import np_utils\n",
    "\n",
    "new_target=np_utils.to_categorical(target)\n",
    "print(new_target[:5])"
   ]
  },
  {
   "cell_type": "code",
   "execution_count": 9,
   "metadata": {},
   "outputs": [],
   "source": [
    "from sklearn.model_selection import train_test_split\n",
    "\n",
    "train_data,test_data,train_target,test_target = train_test_split(data,new_target,test_size=0.1)"
   ]
  },
  {
   "cell_type": "code",
   "execution_count": 10,
   "metadata": {},
   "outputs": [
    {
     "name": "stdout",
     "output_type": "stream",
     "text": [
      "Train on 135 samples\n",
      "Epoch 1/100\n",
      "135/135 [==============================] - 3s 19ms/sample - loss: 1.1308 - accuracy: 0.3185\n",
      "Epoch 2/100\n",
      "135/135 [==============================] - 0s 96us/sample - loss: 1.0181 - accuracy: 0.3407\n",
      "Epoch 3/100\n",
      "135/135 [==============================] - 0s 59us/sample - loss: 0.9700 - accuracy: 0.3481\n",
      "Epoch 4/100\n",
      "135/135 [==============================] - 0s 67us/sample - loss: 0.9173 - accuracy: 0.5407\n",
      "Epoch 5/100\n",
      "135/135 [==============================] - 0s 74us/sample - loss: 0.8770 - accuracy: 0.6889\n",
      "Epoch 6/100\n",
      "135/135 [==============================] - 0s 81us/sample - loss: 0.8478 - accuracy: 0.6963\n",
      "Epoch 7/100\n",
      "135/135 [==============================] - 0s 74us/sample - loss: 0.8271 - accuracy: 0.6963\n",
      "Epoch 8/100\n",
      "135/135 [==============================] - 0s 66us/sample - loss: 0.7939 - accuracy: 0.7037\n",
      "Epoch 9/100\n",
      "135/135 [==============================] - 0s 59us/sample - loss: 0.7440 - accuracy: 0.7556\n",
      "Epoch 10/100\n",
      "135/135 [==============================] - 0s 59us/sample - loss: 0.7094 - accuracy: 0.6741\n",
      "Epoch 11/100\n",
      "135/135 [==============================] - 0s 66us/sample - loss: 0.6749 - accuracy: 0.7333\n",
      "Epoch 12/100\n",
      "135/135 [==============================] - 0s 66us/sample - loss: 0.6717 - accuracy: 0.8222\n",
      "Epoch 13/100\n",
      "135/135 [==============================] - 0s 74us/sample - loss: 0.6238 - accuracy: 0.7556\n",
      "Epoch 14/100\n",
      "135/135 [==============================] - 0s 59us/sample - loss: 0.5929 - accuracy: 0.8741\n",
      "Epoch 15/100\n",
      "135/135 [==============================] - 0s 59us/sample - loss: 0.5834 - accuracy: 0.7556\n",
      "Epoch 16/100\n",
      "135/135 [==============================] - 0s 66us/sample - loss: 0.5500 - accuracy: 0.8667\n",
      "Epoch 17/100\n",
      "135/135 [==============================] - 0s 59us/sample - loss: 0.5519 - accuracy: 0.7926\n",
      "Epoch 18/100\n",
      "135/135 [==============================] - 0s 66us/sample - loss: 0.5322 - accuracy: 0.7630\n",
      "Epoch 19/100\n",
      "135/135 [==============================] - 0s 67us/sample - loss: 0.5074 - accuracy: 0.7926\n",
      "Epoch 20/100\n",
      "135/135 [==============================] - 0s 66us/sample - loss: 0.4880 - accuracy: 0.9185\n",
      "Epoch 21/100\n",
      "135/135 [==============================] - 0s 148us/sample - loss: 0.4786 - accuracy: 0.9556\n",
      "Epoch 22/100\n",
      "135/135 [==============================] - 0s 111us/sample - loss: 0.5193 - accuracy: 0.6741\n",
      "Epoch 23/100\n",
      "135/135 [==============================] - 0s 81us/sample - loss: 0.4891 - accuracy: 0.7556\n",
      "Epoch 24/100\n",
      "135/135 [==============================] - 0s 59us/sample - loss: 0.4616 - accuracy: 0.8296\n",
      "Epoch 25/100\n",
      "135/135 [==============================] - 0s 74us/sample - loss: 0.4504 - accuracy: 0.8815\n",
      "Epoch 26/100\n",
      "135/135 [==============================] - 0s 74us/sample - loss: 0.4384 - accuracy: 0.8519\n",
      "Epoch 27/100\n",
      "135/135 [==============================] - 0s 81us/sample - loss: 0.4132 - accuracy: 0.8889\n",
      "Epoch 28/100\n",
      "135/135 [==============================] - 0s 67us/sample - loss: 0.4143 - accuracy: 0.8963\n",
      "Epoch 29/100\n",
      "135/135 [==============================] - 0s 96us/sample - loss: 0.4027 - accuracy: 0.8444\n",
      "Epoch 30/100\n",
      "135/135 [==============================] - 0s 81us/sample - loss: 0.3910 - accuracy: 0.8889\n",
      "Epoch 31/100\n",
      "135/135 [==============================] - 0s 66us/sample - loss: 0.3844 - accuracy: 0.9185\n",
      "Epoch 32/100\n",
      "135/135 [==============================] - 0s 82us/sample - loss: 0.3772 - accuracy: 0.9556\n",
      "Epoch 33/100\n",
      "135/135 [==============================] - 0s 81us/sample - loss: 0.3811 - accuracy: 0.9037\n",
      "Epoch 34/100\n",
      "135/135 [==============================] - 0s 74us/sample - loss: 0.3779 - accuracy: 0.9185\n",
      "Epoch 35/100\n",
      "135/135 [==============================] - 0s 66us/sample - loss: 0.3624 - accuracy: 0.9333\n",
      "Epoch 36/100\n",
      "135/135 [==============================] - 0s 74us/sample - loss: 0.3615 - accuracy: 0.8370\n",
      "Epoch 37/100\n",
      "135/135 [==============================] - 0s 66us/sample - loss: 0.3446 - accuracy: 0.9556\n",
      "Epoch 38/100\n",
      "135/135 [==============================] - 0s 81us/sample - loss: 0.3528 - accuracy: 0.9259\n",
      "Epoch 39/100\n",
      "135/135 [==============================] - 0s 74us/sample - loss: 0.3440 - accuracy: 0.8667\n",
      "Epoch 40/100\n",
      "135/135 [==============================] - 0s 66us/sample - loss: 0.3383 - accuracy: 0.8963\n",
      "Epoch 41/100\n",
      "135/135 [==============================] - 0s 74us/sample - loss: 0.3297 - accuracy: 0.8963\n",
      "Epoch 42/100\n",
      "135/135 [==============================] - 0s 73us/sample - loss: 0.3256 - accuracy: 0.9333\n",
      "Epoch 43/100\n",
      "135/135 [==============================] - 0s 81us/sample - loss: 0.3094 - accuracy: 0.9556\n",
      "Epoch 44/100\n",
      "135/135 [==============================] - 0s 66us/sample - loss: 0.3061 - accuracy: 0.9333\n",
      "Epoch 45/100\n",
      "135/135 [==============================] - 0s 81us/sample - loss: 0.3067 - accuracy: 0.9185\n",
      "Epoch 46/100\n",
      "135/135 [==============================] - 0s 74us/sample - loss: 0.2910 - accuracy: 0.9556\n",
      "Epoch 47/100\n",
      "135/135 [==============================] - 0s 74us/sample - loss: 0.3152 - accuracy: 0.9185\n",
      "Epoch 48/100\n",
      "135/135 [==============================] - 0s 74us/sample - loss: 0.2855 - accuracy: 0.9556\n",
      "Epoch 49/100\n",
      "135/135 [==============================] - 0s 74us/sample - loss: 0.2840 - accuracy: 0.9556\n",
      "Epoch 50/100\n",
      "135/135 [==============================] - 0s 89us/sample - loss: 0.3292 - accuracy: 0.8815\n",
      "Epoch 51/100\n",
      "135/135 [==============================] - 0s 66us/sample - loss: 0.2945 - accuracy: 0.8889\n",
      "Epoch 52/100\n",
      "135/135 [==============================] - 0s 96us/sample - loss: 0.2669 - accuracy: 0.9852\n",
      "Epoch 53/100\n",
      "135/135 [==============================] - 0s 81us/sample - loss: 0.2708 - accuracy: 0.9111\n",
      "Epoch 54/100\n",
      "135/135 [==============================] - 0s 66us/sample - loss: 0.2634 - accuracy: 0.9556\n",
      "Epoch 55/100\n",
      "135/135 [==============================] - 0s 81us/sample - loss: 0.2998 - accuracy: 0.8815\n",
      "Epoch 56/100\n",
      "135/135 [==============================] - 0s 74us/sample - loss: 0.2527 - accuracy: 0.9556\n",
      "Epoch 57/100\n",
      "135/135 [==============================] - 0s 74us/sample - loss: 0.3057 - accuracy: 0.8667\n",
      "Epoch 58/100\n",
      "135/135 [==============================] - 0s 81us/sample - loss: 0.2830 - accuracy: 0.8815\n",
      "Epoch 59/100\n",
      "135/135 [==============================] - 0s 74us/sample - loss: 0.2382 - accuracy: 0.9630\n",
      "Epoch 60/100\n",
      "135/135 [==============================] - 0s 74us/sample - loss: 0.2846 - accuracy: 0.8889\n",
      "Epoch 61/100\n",
      "135/135 [==============================] - 0s 81us/sample - loss: 0.2416 - accuracy: 0.9333\n",
      "Epoch 62/100\n",
      "135/135 [==============================] - 0s 74us/sample - loss: 0.2251 - accuracy: 0.9704\n",
      "Epoch 63/100\n",
      "135/135 [==============================] - 0s 74us/sample - loss: 0.2271 - accuracy: 0.9556\n",
      "Epoch 64/100\n",
      "135/135 [==============================] - 0s 74us/sample - loss: 0.2360 - accuracy: 0.9481\n",
      "Epoch 65/100\n",
      "135/135 [==============================] - 0s 66us/sample - loss: 0.2142 - accuracy: 0.9778\n",
      "Epoch 66/100\n",
      "135/135 [==============================] - 0s 66us/sample - loss: 0.2132 - accuracy: 0.9704\n",
      "Epoch 67/100\n",
      "135/135 [==============================] - 0s 66us/sample - loss: 0.2297 - accuracy: 0.9333\n",
      "Epoch 68/100\n",
      "135/135 [==============================] - 0s 66us/sample - loss: 0.2559 - accuracy: 0.9111\n",
      "Epoch 69/100\n",
      "135/135 [==============================] - 0s 66us/sample - loss: 0.2188 - accuracy: 0.9407\n",
      "Epoch 70/100\n",
      "135/135 [==============================] - 0s 74us/sample - loss: 0.2221 - accuracy: 0.9407\n",
      "Epoch 71/100\n",
      "135/135 [==============================] - 0s 89us/sample - loss: 0.2155 - accuracy: 0.9259\n",
      "Epoch 72/100\n",
      "135/135 [==============================] - 0s 81us/sample - loss: 0.2671 - accuracy: 0.8741\n",
      "Epoch 73/100\n",
      "135/135 [==============================] - 0s 103us/sample - loss: 0.2442 - accuracy: 0.9037\n",
      "Epoch 74/100\n",
      "135/135 [==============================] - ETA: 0s - loss: 0.1892 - accuracy: 0.90 - 0s 81us/sample - loss: 0.1983 - accuracy: 0.9407\n",
      "Epoch 75/100\n",
      "135/135 [==============================] - 0s 81us/sample - loss: 0.1838 - accuracy: 0.9630\n",
      "Epoch 76/100\n",
      "135/135 [==============================] - 0s 81us/sample - loss: 0.1884 - accuracy: 0.9704\n",
      "Epoch 77/100\n",
      "135/135 [==============================] - 0s 66us/sample - loss: 0.1792 - accuracy: 0.9556\n",
      "Epoch 78/100\n"
     ]
    },
    {
     "name": "stdout",
     "output_type": "stream",
     "text": [
      "135/135 [==============================] - 0s 66us/sample - loss: 0.3210 - accuracy: 0.8593\n",
      "Epoch 79/100\n",
      "135/135 [==============================] - 0s 89us/sample - loss: 0.1749 - accuracy: 0.9778\n",
      "Epoch 80/100\n",
      "135/135 [==============================] - 0s 96us/sample - loss: 0.1755 - accuracy: 0.9778\n",
      "Epoch 81/100\n",
      "135/135 [==============================] - 0s 96us/sample - loss: 0.1722 - accuracy: 0.9556\n",
      "Epoch 82/100\n",
      "135/135 [==============================] - 0s 74us/sample - loss: 0.1822 - accuracy: 0.9556\n",
      "Epoch 83/100\n",
      "135/135 [==============================] - 0s 81us/sample - loss: 0.1713 - accuracy: 0.9407\n",
      "Epoch 84/100\n",
      "135/135 [==============================] - 0s 89us/sample - loss: 0.1595 - accuracy: 0.9778\n",
      "Epoch 85/100\n",
      "135/135 [==============================] - 0s 74us/sample - loss: 0.1725 - accuracy: 0.9556\n",
      "Epoch 86/100\n",
      "135/135 [==============================] - 0s 81us/sample - loss: 0.1775 - accuracy: 0.9481\n",
      "Epoch 87/100\n",
      "135/135 [==============================] - 0s 89us/sample - loss: 0.1933 - accuracy: 0.9481\n",
      "Epoch 88/100\n",
      "135/135 [==============================] - 0s 103us/sample - loss: 0.1946 - accuracy: 0.9407\n",
      "Epoch 89/100\n",
      "135/135 [==============================] - 0s 96us/sample - loss: 0.1720 - accuracy: 0.9556\n",
      "Epoch 90/100\n",
      "135/135 [==============================] - 0s 103us/sample - loss: 0.1503 - accuracy: 0.9704\n",
      "Epoch 91/100\n",
      "135/135 [==============================] - 0s 81us/sample - loss: 0.1530 - accuracy: 0.9778\n",
      "Epoch 92/100\n",
      "135/135 [==============================] - 0s 74us/sample - loss: 0.1782 - accuracy: 0.9481\n",
      "Epoch 93/100\n",
      "135/135 [==============================] - 0s 74us/sample - loss: 0.1507 - accuracy: 0.9630\n",
      "Epoch 94/100\n",
      "135/135 [==============================] - 0s 74us/sample - loss: 0.1429 - accuracy: 0.9778\n",
      "Epoch 95/100\n",
      "135/135 [==============================] - 0s 89us/sample - loss: 0.1528 - accuracy: 0.9481\n",
      "Epoch 96/100\n",
      "135/135 [==============================] - 0s 74us/sample - loss: 0.1413 - accuracy: 0.9704\n",
      "Epoch 97/100\n",
      "135/135 [==============================] - 0s 74us/sample - loss: 0.1785 - accuracy: 0.9259\n",
      "Epoch 98/100\n",
      "135/135 [==============================] - 0s 66us/sample - loss: 0.2064 - accuracy: 0.9259\n",
      "Epoch 99/100\n",
      "135/135 [==============================] - 0s 81us/sample - loss: 0.1363 - accuracy: 0.9704\n",
      "Epoch 100/100\n",
      "135/135 [==============================] - 0s 96us/sample - loss: 0.1388 - accuracy: 0.9630\n"
     ]
    }
   ],
   "source": [
    "history=model.fit(train_data,train_target,epochs=100)"
   ]
  },
  {
   "cell_type": "code",
   "execution_count": 11,
   "metadata": {},
   "outputs": [
    {
     "name": "stderr",
     "output_type": "stream",
     "text": [
      "Matplotlib is building the font cache; this may take a moment.\n"
     ]
    },
    {
     "data": {
      "text/plain": [
       "[<matplotlib.lines.Line2D at 0x286c6bc7648>]"
      ]
     },
     "execution_count": 11,
     "metadata": {},
     "output_type": "execute_result"
    },
    {
     "data": {
      "image/png": "[encoded data removed]",
      "text/plain": [
       "<Figure size 432x288 with 1 Axes>"
      ]
     },
     "metadata": {
      "needs_background": "light"
     },
     "output_type": "display_data"
    }
   ],
   "source": [
    "from matplotlib import pyplot as plt\n",
    "\n",
    "plt.plot(history.history['loss'])"
   ]
  },
  {
   "cell_type": "code",
   "execution_count": 12,
   "metadata": {},
   "outputs": [
    {
     "data": {
      "text/plain": [
       "[<matplotlib.lines.Line2D at 0x286c6e9b308>]"
      ]
     },
     "execution_count": 12,
     "metadata": {},
     "output_type": "execute_result"
    },
    {
     "data": {
      "image/png": "[encoded data removed]",
      "text/plain": [
       "<Figure size 432x288 with 1 Axes>"
      ]
     },
     "metadata": {
      "needs_background": "light"
     },
     "output_type": "display_data"
    }
   ],
   "source": [
    "plt.plot(history.history['accuracy'])"
   ]
  },
  {
   "cell_type": "code",
   "execution_count": 13,
   "metadata": {},
   "outputs": [],
   "source": [
    "predicted_target=model.predict(test_data)"
   ]
  },
  {
   "cell_type": "code",
   "execution_count": 14,
   "metadata": {},
   "outputs": [
    {
     "name": "stdout",
     "output_type": "stream",
     "text": [
      "Actual Result: [[0. 1. 0.]\n",
      " [0. 1. 0.]\n",
      " [0. 1. 0.]\n",
      " [0. 1. 0.]\n",
      " [1. 0. 0.]\n",
      " [0. 1. 0.]\n",
      " [1. 0. 0.]\n",
      " [0. 0. 1.]\n",
      " [0. 0. 1.]\n",
      " [0. 0. 1.]\n",
      " [1. 0. 0.]\n",
      " [0. 1. 0.]\n",
      " [0. 0. 1.]\n",
      " [1. 0. 0.]\n",
      " [1. 0. 0.]]\n",
      "Predicted Result: [[2.26869676e-02 8.99727166e-01 7.75859207e-02]\n",
      " [1.58068386e-03 4.94719714e-01 5.03699601e-01]\n",
      " [3.43579520e-03 6.46504879e-01 3.50059301e-01]\n",
      " [7.72804022e-03 8.43454599e-01 1.48817271e-01]\n",
      " [9.86724675e-01 1.32629415e-02 1.25231836e-05]\n",
      " [3.22129466e-02 9.40285444e-01 2.75016204e-02]\n",
      " [9.95516479e-01 4.48219385e-03 1.35480616e-06]\n",
      " [5.46679803e-05 9.74597037e-02 9.02485609e-01]\n",
      " [3.53969866e-04 2.08696783e-01 7.90949225e-01]\n",
      " [1.68108509e-05 2.36888435e-02 9.76294339e-01]\n",
      " [9.94461536e-01 5.53647708e-03 2.05997048e-06]\n",
      " [8.36357102e-03 8.31708848e-01 1.59927547e-01]\n",
      " [2.74060931e-05 5.76278418e-02 9.42344785e-01]\n",
      " [9.82284307e-01 1.76882930e-02 2.73750338e-05]\n",
      " [9.88145113e-01 1.18428459e-02 1.19751276e-05]]\n"
     ]
    }
   ],
   "source": [
    "print('Actual Result:',test_target)\n",
    "print('Predicted Result:',predicted_target)"
   ]
  },
  {
   "cell_type": "code",
   "execution_count": 16,
   "metadata": {},
   "outputs": [
    {
     "name": "stdout",
     "output_type": "stream",
     "text": [
      "Actual Results: [1 1 1 1 0 1 0 2 2 2 0 1 2 0 0]\n",
      "Predicted Results: [1 2 1 1 0 1 0 2 2 2 0 1 2 0 0]\n"
     ]
    }
   ],
   "source": [
    "import numpy as np\n",
    "\n",
    "print('Actual Results:',np.argmax(test_target,axis=1))\n",
    "print('Predicted Results:',np.argmax(predicted_target,axis=1))"
   ]
  },
  {
   "cell_type": "code",
   "execution_count": null,
   "metadata": {},
   "outputs": [],
   "source": []
  }
 ],
 "metadata": {
  "kernelspec": {
   "display_name": "Python 3",
   "language": "python",
   "name": "python3"
  },
  "language_info": {
   "codemirror_mode": {
    "name": "ipython",
    "version": 3
   },
   "file_extension": ".py",
   "mimetype": "text/x-python",
   "name": "python",
   "nbconvert_exporter": "python",
   "pygments_lexer": "ipython3",
   "version": "3.7.9"
  }
 },
 "nbformat": 4,
 "nbformat_minor": 4
}
